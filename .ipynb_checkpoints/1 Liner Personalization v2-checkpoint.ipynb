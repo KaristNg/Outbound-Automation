{
 "cells": [
  {
   "cell_type": "code",
   "execution_count": 1,
   "id": "b3ff80e4",
   "metadata": {},
   "outputs": [],
   "source": [
    "import csv \n",
    "import requests\n",
    "import os\n",
    "import pandas as pd\n",
    "from openai import OpenAI\n",
    "from bs4 import BeautifulSoup\n",
    "from typing import Dict, List\n",
    "from urllib.parse import urlparse"
   ]
  },
  {
   "cell_type": "code",
   "execution_count": 14,
   "id": "ded74023",
   "metadata": {},
   "outputs": [],
   "source": [
    "client = OpenAI(\n",
    "    api_key = 'API Key',\n",
    ")"
   ]
  },
  {
   "cell_type": "markdown",
   "id": "9f9f9140",
   "metadata": {},
   "source": [
    "# Step1: Import Raw Input"
   ]
  },
  {
   "cell_type": "code",
   "execution_count": 3,
   "id": "6d4be60c",
   "metadata": {
    "scrolled": true
   },
   "outputs": [
    {
     "data": {
      "text/html": [
       "<div>\n",
       "<style scoped>\n",
       "    .dataframe tbody tr th:only-of-type {\n",
       "        vertical-align: middle;\n",
       "    }\n",
       "\n",
       "    .dataframe tbody tr th {\n",
       "        vertical-align: top;\n",
       "    }\n",
       "\n",
       "    .dataframe thead th {\n",
       "        text-align: right;\n",
       "    }\n",
       "</style>\n",
       "<table border=\"1\" class=\"dataframe\">\n",
       "  <thead>\n",
       "    <tr style=\"text-align: right;\">\n",
       "      <th></th>\n",
       "      <th>website</th>\n",
       "      <th>company name</th>\n",
       "    </tr>\n",
       "  </thead>\n",
       "  <tbody>\n",
       "    <tr>\n",
       "      <th>0</th>\n",
       "      <td>https://www.litespace.io/</td>\n",
       "      <td>litespace</td>\n",
       "    </tr>\n",
       "    <tr>\n",
       "      <th>1</th>\n",
       "      <td>https://www.hoppier.com/</td>\n",
       "      <td>hoppier</td>\n",
       "    </tr>\n",
       "    <tr>\n",
       "      <th>2</th>\n",
       "      <td>https://www.humi.ca/</td>\n",
       "      <td>humi</td>\n",
       "    </tr>\n",
       "    <tr>\n",
       "      <th>3</th>\n",
       "      <td>https://www.deel.com/</td>\n",
       "      <td>deel</td>\n",
       "    </tr>\n",
       "    <tr>\n",
       "      <th>4</th>\n",
       "      <td>https://www.oysterhr.com/</td>\n",
       "      <td>oyster hr</td>\n",
       "    </tr>\n",
       "  </tbody>\n",
       "</table>\n",
       "</div>"
      ],
      "text/plain": [
       "                     website company name\n",
       "0  https://www.litespace.io/    litespace\n",
       "1   https://www.hoppier.com/      hoppier\n",
       "2       https://www.humi.ca/         humi\n",
       "3      https://www.deel.com/         deel\n",
       "4  https://www.oysterhr.com/    oyster hr"
      ]
     },
     "execution_count": 3,
     "metadata": {},
     "output_type": "execute_result"
    }
   ],
   "source": [
    "df = pd.read_csv(\"website.csv\")\n",
    "df.head()"
   ]
  },
  {
   "cell_type": "markdown",
   "id": "4616f353",
   "metadata": {},
   "source": [
    "# Step2: Script the Data"
   ]
  },
  {
   "cell_type": "code",
   "execution_count": 4,
   "id": "d3e968b5",
   "metadata": {},
   "outputs": [],
   "source": [
    "def scrape_websites(website):\n",
    "    \n",
    "    try:\n",
    "        response = requests.get(website, timeout=10)\n",
    "        soup = BeautifulSoup(response.content, 'html.parser')\n",
    "\n",
    "        data = {\n",
    "            'url': website,\n",
    "            'title': soup.title.string if soup.title else 'No title found',\n",
    "            'meta_description': soup.find('meta', attrs={'name': 'description'})['content'] if soup.find('meta', attrs={'name': 'description'}) else 'No meta description found',\n",
    "            'headings': [h.text for h in soup.find_all(['h1', 'h2', 'h3'])[:5]],\n",
    "            'paragraphs': [p.text for p in soup.find_all('p')[:20]]\n",
    "        }\n",
    "\n",
    "        return data\n",
    "    \n",
    "    except Exception as e:\n",
    "        return \"error\""
   ]
  },
  {
   "cell_type": "code",
   "execution_count": 31,
   "id": "7d353561",
   "metadata": {
    "scrolled": true
   },
   "outputs": [
    {
     "data": {
      "text/html": [
       "<div>\n",
       "<style scoped>\n",
       "    .dataframe tbody tr th:only-of-type {\n",
       "        vertical-align: middle;\n",
       "    }\n",
       "\n",
       "    .dataframe tbody tr th {\n",
       "        vertical-align: top;\n",
       "    }\n",
       "\n",
       "    .dataframe thead th {\n",
       "        text-align: right;\n",
       "    }\n",
       "</style>\n",
       "<table border=\"1\" class=\"dataframe\">\n",
       "  <thead>\n",
       "    <tr style=\"text-align: right;\">\n",
       "      <th></th>\n",
       "      <th>website</th>\n",
       "      <th>company name</th>\n",
       "      <th>website_data</th>\n",
       "      <th>1linear_website</th>\n",
       "    </tr>\n",
       "  </thead>\n",
       "  <tbody>\n",
       "    <tr>\n",
       "      <th>0</th>\n",
       "      <td>https://www.litespace.io/</td>\n",
       "      <td>litespace</td>\n",
       "      <td>{'url': 'https://www.litespace.io/', 'domain':...</td>\n",
       "      <td>I was on your site and saw you’re focused on c...</td>\n",
       "    </tr>\n",
       "    <tr>\n",
       "      <th>1</th>\n",
       "      <td>https://www.hoppier.com/</td>\n",
       "      <td>hoppier</td>\n",
       "      <td>{'url': 'https://www.hoppier.com/', 'domain': ...</td>\n",
       "      <td>I was on your site and saw you’re making it su...</td>\n",
       "    </tr>\n",
       "    <tr>\n",
       "      <th>2</th>\n",
       "      <td>https://www.humi.ca/</td>\n",
       "      <td>humi</td>\n",
       "      <td>{'url': 'https://www.humi.ca/', 'domain': 'www...</td>\n",
       "      <td>I was on your site and saw you’re on a mission...</td>\n",
       "    </tr>\n",
       "    <tr>\n",
       "      <th>3</th>\n",
       "      <td>https://www.deel.com/</td>\n",
       "      <td>deel</td>\n",
       "      <td>{'url': 'https://www.deel.com/', 'domain': 'ww...</td>\n",
       "      <td>I was on your site and saw you’re all about he...</td>\n",
       "    </tr>\n",
       "    <tr>\n",
       "      <th>4</th>\n",
       "      <td>https://www.oysterhr.com/</td>\n",
       "      <td>oyster hr</td>\n",
       "      <td>{'url': 'https://www.oysterhr.com/', 'domain':...</td>\n",
       "      <td>I was on your site and saw you’re helping comp...</td>\n",
       "    </tr>\n",
       "  </tbody>\n",
       "</table>\n",
       "</div>"
      ],
      "text/plain": [
       "                     website company name  \\\n",
       "0  https://www.litespace.io/    litespace   \n",
       "1   https://www.hoppier.com/      hoppier   \n",
       "2       https://www.humi.ca/         humi   \n",
       "3      https://www.deel.com/         deel   \n",
       "4  https://www.oysterhr.com/    oyster hr   \n",
       "\n",
       "                                        website_data  \\\n",
       "0  {'url': 'https://www.litespace.io/', 'domain':...   \n",
       "1  {'url': 'https://www.hoppier.com/', 'domain': ...   \n",
       "2  {'url': 'https://www.humi.ca/', 'domain': 'www...   \n",
       "3  {'url': 'https://www.deel.com/', 'domain': 'ww...   \n",
       "4  {'url': 'https://www.oysterhr.com/', 'domain':...   \n",
       "\n",
       "                                     1linear_website  \n",
       "0  I was on your site and saw you’re focused on c...  \n",
       "1  I was on your site and saw you’re making it su...  \n",
       "2  I was on your site and saw you’re on a mission...  \n",
       "3  I was on your site and saw you’re all about he...  \n",
       "4  I was on your site and saw you’re helping comp...  "
      ]
     },
     "execution_count": 31,
     "metadata": {},
     "output_type": "execute_result"
    }
   ],
   "source": [
    "df['website_data'] = df['website'].apply(scrape_websites)\n",
    "df.head()"
   ]
  },
  {
   "cell_type": "markdown",
   "id": "9574ac72",
   "metadata": {},
   "source": [
    "# Use GPT to Get Personalized 1 Linear"
   ]
  },
  {
   "cell_type": "code",
   "execution_count": 69,
   "id": "419dcf21",
   "metadata": {},
   "outputs": [],
   "source": [
    "def gpt_prompt_generate_perssonalized_from_website(row):\n",
    "    \n",
    "    website_data = row['website_data']\n",
    "    company_name = row['company name']\n",
    "        \n",
    "    prompt = f\"\"\" Write an introductory line to an email that sounds friendly and personal. Avoid formal or exaggerated expressions, \n",
    "    and aim for a tone that is casual, friendly, and sounds like a real person speaking. \n",
    "    Look at the following company’s website description and use it to share a positive detail about their company’s business: \n",
    "    {website_data}. Start the line with ‘I was on your site and saw {company_name}'  and continue by sharing something they value, \n",
    "    prioritize, or are aiming to accomplish that relates to Litespace. \n",
    "    Do not include any quotation marks and write just one example, do not make a list of examples.\n",
    "    Keep the sentence below 30 words and do not quote their description directly, meaning change up wording\n",
    "    \"\"\"\n",
    "    \n",
    "    try:\n",
    "        response = client.chat.completions.create(\n",
    "            model=\"gpt-3.5-turbo\",\n",
    "            messages=[\n",
    "                {\"role\": \"system\", \"content\": \"You are a helpful assistant that writes personalized outbound sales emails for Litespace who is a startup digitizing human resources and driving performance through improving employee experience.\"},\n",
    "                {\"role\": \"user\", \"content\": prompt}\n",
    "            ],\n",
    "            max_tokens=200,\n",
    "            n=1,\n",
    "            stop=None,\n",
    "            temperature=0.7 \n",
    "            )\n",
    "\n",
    "        generated_email = response.choices[0].message.content\n",
    "        return generated_email\n",
    "\n",
    "    except Exception as e:\n",
    "        return \"error\""
   ]
  },
  {
   "cell_type": "code",
   "execution_count": 70,
   "id": "c2cebefa",
   "metadata": {},
   "outputs": [],
   "source": [
    "df['1linear_website'] = df.apply(gpt_prompt_generate_perssonalized_from_website, axis=1)"
   ]
  },
  {
   "cell_type": "code",
   "execution_count": 90,
   "id": "e5d6a1bf",
   "metadata": {},
   "outputs": [
    {
     "data": {
      "text/html": [
       "<div>\n",
       "<style scoped>\n",
       "    .dataframe tbody tr th:only-of-type {\n",
       "        vertical-align: middle;\n",
       "    }\n",
       "\n",
       "    .dataframe tbody tr th {\n",
       "        vertical-align: top;\n",
       "    }\n",
       "\n",
       "    .dataframe thead th {\n",
       "        text-align: right;\n",
       "    }\n",
       "</style>\n",
       "<table border=\"1\" class=\"dataframe\">\n",
       "  <thead>\n",
       "    <tr style=\"text-align: right;\">\n",
       "      <th></th>\n",
       "      <th>website</th>\n",
       "      <th>company name</th>\n",
       "      <th>website_data</th>\n",
       "      <th>1linear_website</th>\n",
       "    </tr>\n",
       "  </thead>\n",
       "  <tbody>\n",
       "    <tr>\n",
       "      <th>0</th>\n",
       "      <td>https://www.litespace.io/</td>\n",
       "      <td>litespace</td>\n",
       "      <td>{'url': 'https://www.litespace.io/', 'domain':...</td>\n",
       "      <td>I was on your site and saw Litespace's commitm...</td>\n",
       "    </tr>\n",
       "    <tr>\n",
       "      <th>1</th>\n",
       "      <td>https://www.hoppier.com/</td>\n",
       "      <td>hoppier</td>\n",
       "      <td>{'url': 'https://www.hoppier.com/', 'domain': ...</td>\n",
       "      <td>I was on your site and saw Hoppier's focus on ...</td>\n",
       "    </tr>\n",
       "    <tr>\n",
       "      <th>2</th>\n",
       "      <td>https://www.humi.ca/</td>\n",
       "      <td>humi</td>\n",
       "      <td>{'url': 'https://www.humi.ca/', 'domain': 'www...</td>\n",
       "      <td>I was on your site and saw Humi's mission to s...</td>\n",
       "    </tr>\n",
       "    <tr>\n",
       "      <th>3</th>\n",
       "      <td>https://www.deel.com/</td>\n",
       "      <td>deel</td>\n",
       "      <td>{'url': 'https://www.deel.com/', 'domain': 'ww...</td>\n",
       "      <td>I was on your site and saw Deel is all about m...</td>\n",
       "    </tr>\n",
       "    <tr>\n",
       "      <th>4</th>\n",
       "      <td>https://www.oysterhr.com/</td>\n",
       "      <td>oyster hr</td>\n",
       "      <td>{'url': 'https://www.oysterhr.com/', 'domain':...</td>\n",
       "      <td>I was on your site and saw Oyster HR makes it ...</td>\n",
       "    </tr>\n",
       "  </tbody>\n",
       "</table>\n",
       "</div>"
      ],
      "text/plain": [
       "                     website company name  \\\n",
       "0  https://www.litespace.io/    litespace   \n",
       "1   https://www.hoppier.com/      hoppier   \n",
       "2       https://www.humi.ca/         humi   \n",
       "3      https://www.deel.com/         deel   \n",
       "4  https://www.oysterhr.com/    oyster hr   \n",
       "\n",
       "                                        website_data  \\\n",
       "0  {'url': 'https://www.litespace.io/', 'domain':...   \n",
       "1  {'url': 'https://www.hoppier.com/', 'domain': ...   \n",
       "2  {'url': 'https://www.humi.ca/', 'domain': 'www...   \n",
       "3  {'url': 'https://www.deel.com/', 'domain': 'ww...   \n",
       "4  {'url': 'https://www.oysterhr.com/', 'domain':...   \n",
       "\n",
       "                                     1linear_website  \n",
       "0  I was on your site and saw Litespace's commitm...  \n",
       "1  I was on your site and saw Hoppier's focus on ...  \n",
       "2  I was on your site and saw Humi's mission to s...  \n",
       "3  I was on your site and saw Deel is all about m...  \n",
       "4  I was on your site and saw Oyster HR makes it ...  "
      ]
     },
     "execution_count": 90,
     "metadata": {},
     "output_type": "execute_result"
    }
   ],
   "source": [
    "df.head()"
   ]
  },
  {
   "cell_type": "markdown",
   "id": "377d7c4b",
   "metadata": {},
   "source": [
    "# Save Result"
   ]
  },
  {
   "cell_type": "code",
   "execution_count": 66,
   "id": "c6de16d7",
   "metadata": {},
   "outputs": [],
   "source": [
    "df.to_csv(\"result.csv\", encoding='utf-8-sig', index=False)"
   ]
  }
 ],
 "metadata": {
  "kernelspec": {
   "display_name": "Python 3 (ipykernel)",
   "language": "python",
   "name": "python3"
  },
  "language_info": {
   "codemirror_mode": {
    "name": "ipython",
    "version": 3
   },
   "file_extension": ".py",
   "mimetype": "text/x-python",
   "name": "python",
   "nbconvert_exporter": "python",
   "pygments_lexer": "ipython3",
   "version": "3.9.13"
  }
 },
 "nbformat": 4,
 "nbformat_minor": 5
}
