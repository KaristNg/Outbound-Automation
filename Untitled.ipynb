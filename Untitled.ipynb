{
 "cells": [
  {
   "cell_type": "code",
   "execution_count": 1,
   "id": "4e39fadf",
   "metadata": {},
   "outputs": [],
   "source": [
    "import csv \n",
    "import requests\n",
    "from bs4 import BeautifulSoup\n",
    "from typing import Dict, List\n",
    "from urllib.parse import urlparse\n",
    "\n"
   ]
  },
  {
   "cell_type": "code",
   "execution_count": 2,
   "id": "3244110e",
   "metadata": {},
   "outputs": [],
   "source": [
    "def scrape_websites_from_csv(csv_file_path: str) -> List[Dict[str, str]]:\n",
    "# Function to scrape CSV and domains in it -> to return parsed HTML content.\n",
    "    scraped_data = []\n",
    "\n",
    "    with open(csv_file_path, 'r') as csvfile:\n",
    "        csv_reader = csv.reader(csvfile)\n",
    "        next(csv_reader, None)  # Skip the header row if it exists\n",
    "\n",
    "        for row in csv_reader:\n",
    "            if not row:  # Skip empty rows\n",
    "                continue\n",
    "            \n",
    "            url = row[0].strip()  # Assuming the URL is in the first column\n",
    "            if not url.startswith('http'):\n",
    "                url = 'http://' + url\n",
    "\n",
    "            try:\n",
    "                response = requests.get(url, timeout=10)\n",
    "                soup = BeautifulSoup(response.content, 'html.parser')\n",
    "                \n",
    "                data = {\n",
    "                    'url': url,\n",
    "                    'domain': urlparse(url).netloc,\n",
    "                    'title': soup.title.string if soup.title else 'No title found',\n",
    "                    'meta_description': soup.find('meta', attrs={'name': 'description'})['content'] if soup.find('meta', attrs={'name': 'description'}) else 'No meta description found',\n",
    "                    'headings': [h.text for h in soup.find_all(['h1', 'h2', 'h3'])[:5]],\n",
    "                    'paragraphs': [p.text for p in soup.find_all('p')[:3]]\n",
    "                }\n",
    "                \n",
    "                scraped_data.append(data)\n",
    "                print(f\"Successfully scraped: {url}\")\n",
    "            \n",
    "            except Exception as e:\n",
    "                print(f\"Error scraping {url}: {str(e)}\")\n",
    "                scraped_data.append({\n",
    "                    'url': url,\n",
    "                    'domain': urlparse(url).netloc,\n",
    "                    'error': str(e)\n",
    "                })\n",
    "\n",
    "    return scraped_data\n",
    "\n",
    "def analyze_content(data: Dict[str, str]) -> List[str]:\n",
    "    #Analyze scraped content to identify key themes and topics.\n",
    "    relevant_content = []\n",
    "    \n",
    "    keywords = ['achievement','professional','proud','remote work', 'solution']\n",
    "    \n",
    "    all_text = ' '.join(data['headings'] + data['paragraphs']).lower()\n",
    "    \n",
    "    for keyword in keywords:\n",
    "        if keyword in all_text:\n",
    "            relevant_content.append(f\"Website mentions {keyword}\")\n",
    "    \n",
    "    return relevant_content\n",
    "\n",
    "def generate_personalized_email(data: Dict[str, str], relevant_content: List[str]) -> str:\n",
    "#Generic Personalized message using the relevant HTML content (to be replaced by OpenAI prompt)\n",
    "  return f\"Subject: Innovative Workspace Solutions for {data['domain']}\\n\\n\" \\\n",
    "           f\"Dear {data['domain']} Team,\\n\\n\" \\\n",
    "           f\"I hope this email finds you well. I recently came across your website and was impressed by {data['title']}.\\n\\n\" \\\n",
    "           f\"At Litespace, we specialize in providing innovative workspace solutions that enhance productivity and collaboration, \" \\\n",
    "           f\"especially in remote work environments. Given your focus on {', '.join(relevant_content)}, I believe our services \" \\\n",
    "           f\"could be particularly beneficial for your team.\\n\\n\" \\\n",
    "           f\"Would you be interested in scheduling a brief call to discuss how Litespace can support your specific needs?\\n\\n\" \\\n",
    "           f\"Best regards,\\n\" \\\n",
    "           f\"The Litespace Team\""
   ]
  },
  {
   "cell_type": "code",
   "execution_count": 6,
   "id": "709e9d39",
   "metadata": {},
   "outputs": [
    {
     "name": "stdout",
     "output_type": "stream",
     "text": [
      "Enter the path to your CSV file containing website URLs: website.csv\n",
      "[]\n"
     ]
    }
   ],
   "source": [
    "def main():\n",
    "    csv_file_path = input(\"Enter the path to your CSV file containing website URLs: \")\n",
    "    scraped_websites = scrape_websites_from_csv(csv_file_path)\n",
    "    print(scraped_websites)\n",
    "\t#Scrape domains in CSV file\n",
    "\n",
    "    # Process each scraped website\n",
    "    for website_data in scraped_websites:\n",
    "        if 'error' in website_data:\n",
    "            print(f\"Skipping {website_data['url']} due to error: {website_data['error']}\")\n",
    "            continue\n",
    "\n",
    "        relevant_content = analyze_content(website_data)\n",
    "        personalized_email = generate_personalized_email(website_data, relevant_content)\n",
    "\n",
    "        print(f\"\\nGenerated Personalized Email for {website_data['domain']}:\")\n",
    "        print(\"-----------------------------\")\n",
    "        print(personalized_email)\n",
    "        print(\"\\n\")\n",
    "\n",
    "if __name__ == \"__main__\":\n",
    "    main()"
   ]
  },
  {
   "cell_type": "code",
   "execution_count": null,
   "id": "33ca3238",
   "metadata": {},
   "outputs": [],
   "source": []
  },
  {
   "cell_type": "code",
   "execution_count": null,
   "id": "d232e81b",
   "metadata": {},
   "outputs": [],
   "source": []
  }
 ],
 "metadata": {
  "kernelspec": {
   "display_name": "Python 3 (ipykernel)",
   "language": "python",
   "name": "python3"
  },
  "language_info": {
   "codemirror_mode": {
    "name": "ipython",
    "version": 3
   },
   "file_extension": ".py",
   "mimetype": "text/x-python",
   "name": "python",
   "nbconvert_exporter": "python",
   "pygments_lexer": "ipython3",
   "version": "3.9.13"
  }
 },
 "nbformat": 4,
 "nbformat_minor": 5
}
